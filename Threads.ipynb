{
 "cells": [
  {
   "cell_type": "markdown",
   "id": "chronic-inspiration",
   "metadata": {},
   "source": [
    "<h1 style = \"text-align:center\">Programación Concurrente y Distribuida </h1>\n",
    "<a href=\"github.com/rafaps12\"><img src=\"Captura de pantalla 2021-02-24 163217.png\" title = \"Rafael Picón Sánchez 21825019\" alt=\"Rafael Picón Sánchez\" width=\"100\" height=\"100\" style=\"float:left;vertical-alig:middle\"><img src=\"UEM-simbolo.jpg\" title= \"M21\"alt=\"UE\" width=\"200\" height=\"200\" style=\"float:right;vertical-alig:middle\">"
   ]
  },
  {
   "cell_type": "markdown",
   "id": "august-motel",
   "metadata": {},
   "source": [
    "# Index"
   ]
  },
  {
   "cell_type": "code",
   "execution_count": 2,
   "id": "consistent-pointer",
   "metadata": {},
   "outputs": [],
   "source": [
    " import os"
   ]
  },
  {
   "cell_type": "code",
   "execution_count": 3,
   "id": "another-maker",
   "metadata": {},
   "outputs": [],
   "source": [
    "import threading\n"
   ]
  },
  {
   "cell_type": "code",
   "execution_count": 4,
   "id": "distant-document",
   "metadata": {},
   "outputs": [],
   "source": [
    "import requests"
   ]
  },
  {
   "cell_type": "code",
   "execution_count": 5,
   "id": "laden-behavior",
   "metadata": {},
   "outputs": [
    {
     "name": "stdout",
     "output_type": "stream",
     "text": [
      "El proceso que esta manejando este programa es: 13088\n"
     ]
    }
   ],
   "source": [
    "print(\"El proceso que esta manejando este programa es:\" , os.getpid())"
   ]
  },
  {
   "cell_type": "code",
   "execution_count": 6,
   "id": "accredited-development",
   "metadata": {},
   "outputs": [],
   "source": [
    "def cpu():\n",
    "    while True:\n",
    "        pass"
   ]
  },
  {
   "cell_type": "code",
   "execution_count": 7,
   "id": "irish-programmer",
   "metadata": {},
   "outputs": [],
   "source": [
    "def ataque():\n",
    "    ataque=requests.get('https://github.com/Rafaps12/AI3')\n",
    "    ataque\n"
   ]
  },
  {
   "cell_type": "code",
   "execution_count": 8,
   "id": "built-playing",
   "metadata": {},
   "outputs": [
    {
     "name": "stdout",
     "output_type": "stream",
     "text": [
      "hilos lanzados 7\n"
     ]
    }
   ],
   "source": [
    "print(\"hilos lanzados\", threading.activeCount())"
   ]
  },
  {
   "cell_type": "code",
   "execution_count": 9,
   "id": "native-digest",
   "metadata": {},
   "outputs": [
    {
     "name": "stdout",
     "output_type": "stream",
     "text": [
      "Este equipo tiene un total de 12\n"
     ]
    }
   ],
   "source": [
    "print(\"Este equipo tiene un total de\", os.cpu_count())"
   ]
  },
  {
   "cell_type": "code",
   "execution_count": 10,
   "id": "lucky-precipitation",
   "metadata": {},
   "outputs": [
    {
     "name": "stdout",
     "output_type": "stream",
     "text": [
      "el nombre de los hilos son: <_MainThread(MainThread, started 28140)>\n",
      "el nombre de los hilos son: <Thread(Tornado selector, started daemon 26740)>\n",
      "el nombre de los hilos son: <Thread(Thread-4, started daemon 30424)>\n",
      "el nombre de los hilos son: <Heartbeat(Thread-5, started daemon 26816)>\n",
      "el nombre de los hilos son: <Thread(Tornado selector, started daemon 19684)>\n",
      "el nombre de los hilos son: <HistorySavingThread(IPythonHistorySavingThread, started 29988)>\n",
      "el nombre de los hilos son: <ParentPollerWindows(Thread-3, started daemon 22564)>\n"
     ]
    }
   ],
   "source": [
    "for t in threading.enumerate():\n",
    "    print(\"el nombre de los hilos son:\",t)\n"
   ]
  },
  {
   "cell_type": "code",
   "execution_count": 11,
   "id": "typical-parts",
   "metadata": {},
   "outputs": [
    {
     "name": "stdout",
     "output_type": "stream",
     "text": [
      "\n",
      "Ataque usando 200 hilos\n"
     ]
    }
   ],
   "source": [
    "print ('\\nAtaque usando 200 hilos')\n",
    "for i in range(200):\n",
    "    threading.Thread(target=ataque).start()"
   ]
  },
  {
   "cell_type": "code",
   "execution_count": 12,
   "id": "incorporate-cycle",
   "metadata": {},
   "outputs": [],
   "source": [
    "import requests"
   ]
  },
  {
   "cell_type": "code",
   "execution_count": 13,
   "id": "indoor-publication",
   "metadata": {},
   "outputs": [],
   "source": [
    "ataque=requests.get('https://github.com/sukuzhanay')"
   ]
  },
  {
   "cell_type": "code",
   "execution_count": 14,
   "id": "silver-yugoslavia",
   "metadata": {},
   "outputs": [
    {
     "name": "stdout",
     "output_type": "stream",
     "text": [
      "\n",
      "Ataque usando 1000 hilos\n"
     ]
    }
   ],
   "source": [
    "print ('\\nAtaque usando 1000 hilos')\n",
    "for i in range(1000):\n",
    "    threading.Thread(target=ataque).start()"
   ]
  },
  {
   "cell_type": "code",
   "execution_count": 15,
   "id": "elect-defensive",
   "metadata": {},
   "outputs": [],
   "source": [
    "ataque=requests.get('https://www.youtube.com/channel/UCEXbXdeafAjBahYK2hoQJFg')"
   ]
  },
  {
   "cell_type": "code",
   "execution_count": null,
   "id": "liked-hanging",
   "metadata": {},
   "outputs": [],
   "source": []
  }
 ],
 "metadata": {
  "kernelspec": {
   "display_name": "Python 3",
   "language": "python",
   "name": "python3"
  },
  "language_info": {
   "codemirror_mode": {
    "name": "ipython",
    "version": 3
   },
   "file_extension": ".py",
   "mimetype": "text/x-python",
   "name": "python",
   "nbconvert_exporter": "python",
   "pygments_lexer": "ipython3",
   "version": "3.8.5"
  }
 },
 "nbformat": 4,
 "nbformat_minor": 5
}
